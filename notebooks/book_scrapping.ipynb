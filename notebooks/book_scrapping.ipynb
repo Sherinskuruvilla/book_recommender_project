{
 "cells": [
  {
   "cell_type": "code",
   "execution_count": 1,
   "id": "dc7c840e-8e91-46bb-8fc2-0b3186f51ae3",
   "metadata": {},
   "outputs": [],
   "source": [
    "import requests\n",
    "from bs4 import BeautifulSoup\n",
    "import pandas as pd\n",
    "from urllib.parse import urljoin\n",
    "from concurrent.futures import ThreadPoolExecutor"
   ]
  },
  {
   "cell_type": "code",
   "execution_count": 2,
   "id": "3b9a13e9-8d5e-457e-ad8c-f69332214979",
   "metadata": {},
   "outputs": [
    {
     "name": "stdout",
     "output_type": "stream",
     "text": [
      "                UPC                                  Title  Price (£)  Rating  \\\n",
      "0  a897fe39b1053632                   A Light in the Attic      51.77       3   \n",
      "1  90fa61229261140a                     Tipping the Velvet      53.74       1   \n",
      "2  6957f44c3847a760                             Soumission      50.10       1   \n",
      "3  e00eb4fd7b871a48                          Sharp Objects      47.82       4   \n",
      "4  4165285e1663650f  Sapiens: A Brief History of Humankind      54.23       5   \n",
      "\n",
      "                Genre             Availability  \\\n",
      "0              Poetry  In stock (22 available)   \n",
      "1  Historical Fiction  In stock (20 available)   \n",
      "2             Fiction  In stock (20 available)   \n",
      "3             Mystery  In stock (20 available)   \n",
      "4             History  In stock (20 available)   \n",
      "\n",
      "                                         Description  \\\n",
      "0  It's hard to imagine a world without A Light i...   \n",
      "1  \"Erotic and absorbing...Written with starling ...   \n",
      "2  Dans une France assez proche de la nôtre, un h...   \n",
      "3  WICKED above her hipbone, GIRL across her hear...   \n",
      "4  From a renowned historian comes a groundbreaki...   \n",
      "\n",
      "                                           Image_URL  \n",
      "0  https://books.toscrape.com/media/cache/fe/72/f...  \n",
      "1  https://books.toscrape.com/media/cache/08/e9/0...  \n",
      "2  https://books.toscrape.com/media/cache/ee/cf/e...  \n",
      "3  https://books.toscrape.com/media/cache/c0/59/c...  \n",
      "4  https://books.toscrape.com/media/cache/ce/5f/c...   1000\n"
     ]
    }
   ],
   "source": [
    "\n",
    "\n",
    "word_to_number = {'Zero':0,'One':1,'Two':2,'Three':3,'Four':4,'Five':5}\n",
    "\n",
    "def scrape_book(book_url):\n",
    "    \"\"\"Scrape one book page\"\"\"\n",
    "    r = requests.get(book_url)\n",
    "    bs = BeautifulSoup(r.content, \"html.parser\")\n",
    "\n",
    "    title = bs.find('h1').get_text(strip=True)\n",
    "    upc = bs.select_one('table.table.table-striped tr td').get_text(strip=True)\n",
    "    genre = bs.select('ul.breadcrumb li a')[-1].get_text(strip=True)\n",
    "    availability = bs.select('table.table.table-striped tr td')[5].get_text(strip=True)\n",
    "    desc_tag = bs.find('meta', attrs={'name':'description'})\n",
    "    description = desc_tag['content'].strip() if desc_tag else \"\"\n",
    "\n",
    "    #  image URL from book detail page\n",
    "    image_rel = bs.select_one(\"div.item.active img\")[\"src\"]\n",
    "    image_url = urljoin(\"https://books.toscrape.com/\", image_rel)\n",
    "\n",
    "    return upc, title, genre, availability, description, image_url\n",
    "\n",
    "\n",
    "def scrape_books_per_page(soup):\n",
    "    prices, ratings, urls = [], [], []\n",
    "    \n",
    "    for comp in soup.find_all('article', class_='product_pod'):\n",
    "        rating = word_to_number[comp.find('p', class_='star-rating')['class'][-1]]\n",
    "        price = float(comp.select_one('p.price_color').get_text(strip=True).replace(\"£\",\"\"))\n",
    "        url = urljoin(\"https://books.toscrape.com/catalogue/\", comp.h3.a['href'])\n",
    "        \n",
    "        prices.append(price)\n",
    "        ratings.append(rating)\n",
    "        urls.append(url)\n",
    "    \n",
    "    # Scrape book detail pages in parallel (10 at a time)\n",
    "    with ThreadPoolExecutor(max_workers=10) as ex:\n",
    "        details = list(ex.map(scrape_book, urls))\n",
    "    \n",
    "    upcs, titles_detail, genres, availabilities, descriptions, images = zip(*details)\n",
    "    \n",
    "    return pd.DataFrame({\n",
    "        'UPC': upcs,\n",
    "        'Title': titles_detail,\n",
    "        'Price (£)': prices,\n",
    "        'Rating': ratings,\n",
    "        'Genre': genres,\n",
    "        'Availability': availabilities,\n",
    "        'Description': descriptions,\n",
    "        'Image_URL': images    #  new column\n",
    "    })\n",
    "\n",
    "\n",
    "# Loop all pages\n",
    "pages = [f\"https://books.toscrape.com/catalogue/page-{p}.html\" for p in range(1,51)]\n",
    "dfs=[]\n",
    "for url in pages:\n",
    "    r = requests.get(url)\n",
    "    s = BeautifulSoup(r.content, \"html.parser\")\n",
    "    dfs.append(scrape_books_per_page(s))\n",
    "\n",
    "result_df1 = pd.concat(dfs, ignore_index=True)\n",
    "print(result_df1.head(), len(result_df1))\n",
    "\n",
    "# Save to CSV\n",
    "result_df1.to_csv(\"../data/raw/bookstoscrape.csv\", index=False, encoding=\"utf-8-sig\")\n"
   ]
  },
  {
   "cell_type": "code",
   "execution_count": 3,
   "id": "4aa6ce54-5620-47e3-b745-99bbf487dd6d",
   "metadata": {},
   "outputs": [
    {
     "data": {
      "text/plain": [
       "(1000, 8)"
      ]
     },
     "execution_count": 3,
     "metadata": {},
     "output_type": "execute_result"
    }
   ],
   "source": [
    "result_df1.shape"
   ]
  },
  {
   "cell_type": "code",
   "execution_count": 5,
   "id": "cd6c41d3-3113-40ec-acb3-09ff1a68ab43",
   "metadata": {},
   "outputs": [
    {
     "data": {
      "text/plain": [
       "UPC             0\n",
       "Title           0\n",
       "Price (£)       0\n",
       "Rating          0\n",
       "Genre           0\n",
       "Availability    0\n",
       "Description     0\n",
       "Image_URL       0\n",
       "dtype: int64"
      ]
     },
     "execution_count": 5,
     "metadata": {},
     "output_type": "execute_result"
    }
   ],
   "source": [
    "result_df1.isna().sum()"
   ]
  },
  {
   "cell_type": "code",
   "execution_count": null,
   "id": "3a25e813-cd02-455a-b064-99720196c22f",
   "metadata": {},
   "outputs": [],
   "source": []
  }
 ],
 "metadata": {
  "kernelspec": {
   "display_name": "venv",
   "language": "python",
   "name": "venv"
  },
  "language_info": {
   "codemirror_mode": {
    "name": "ipython",
    "version": 3
   },
   "file_extension": ".py",
   "mimetype": "text/x-python",
   "name": "python",
   "nbconvert_exporter": "python",
   "pygments_lexer": "ipython3",
   "version": "3.12.3"
  }
 },
 "nbformat": 4,
 "nbformat_minor": 5
}
