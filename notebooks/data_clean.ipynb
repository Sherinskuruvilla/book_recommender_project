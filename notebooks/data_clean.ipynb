{
 "cells": [
  {
   "cell_type": "code",
   "execution_count": 125,
   "id": "7a3b52d0-bb36-42ef-a4c6-53973a36889c",
   "metadata": {},
   "outputs": [],
   "source": [
    "import pandas as pd\n",
    "import re\n",
    "import numpy as np"
   ]
  },
  {
   "cell_type": "code",
   "execution_count": 126,
   "id": "263cda3b-41aa-434b-b1ca-6a9ebc3e6e9c",
   "metadata": {},
   "outputs": [
    {
     "data": {
      "text/html": [
       "<div>\n",
       "<style scoped>\n",
       "    .dataframe tbody tr th:only-of-type {\n",
       "        vertical-align: middle;\n",
       "    }\n",
       "\n",
       "    .dataframe tbody tr th {\n",
       "        vertical-align: top;\n",
       "    }\n",
       "\n",
       "    .dataframe thead th {\n",
       "        text-align: right;\n",
       "    }\n",
       "</style>\n",
       "<table border=\"1\" class=\"dataframe\">\n",
       "  <thead>\n",
       "    <tr style=\"text-align: right;\">\n",
       "      <th></th>\n",
       "      <th>UPC</th>\n",
       "      <th>Title</th>\n",
       "      <th>Price (£)</th>\n",
       "      <th>Rating</th>\n",
       "      <th>Genre</th>\n",
       "      <th>Availability</th>\n",
       "      <th>Description</th>\n",
       "      <th>Image_URL</th>\n",
       "    </tr>\n",
       "  </thead>\n",
       "  <tbody>\n",
       "    <tr>\n",
       "      <th>0</th>\n",
       "      <td>a897fe39b1053632</td>\n",
       "      <td>A Light in the Attic</td>\n",
       "      <td>51.77</td>\n",
       "      <td>3</td>\n",
       "      <td>Poetry</td>\n",
       "      <td>In stock (22 available)</td>\n",
       "      <td>It's hard to imagine a world without A Light i...</td>\n",
       "      <td>https://books.toscrape.com/media/cache/fe/72/f...</td>\n",
       "    </tr>\n",
       "    <tr>\n",
       "      <th>1</th>\n",
       "      <td>90fa61229261140a</td>\n",
       "      <td>Tipping the Velvet</td>\n",
       "      <td>53.74</td>\n",
       "      <td>1</td>\n",
       "      <td>Historical Fiction</td>\n",
       "      <td>In stock (20 available)</td>\n",
       "      <td>\"Erotic and absorbing...Written with starling ...</td>\n",
       "      <td>https://books.toscrape.com/media/cache/08/e9/0...</td>\n",
       "    </tr>\n",
       "    <tr>\n",
       "      <th>2</th>\n",
       "      <td>6957f44c3847a760</td>\n",
       "      <td>Soumission</td>\n",
       "      <td>50.10</td>\n",
       "      <td>1</td>\n",
       "      <td>Fiction</td>\n",
       "      <td>In stock (20 available)</td>\n",
       "      <td>Dans une France assez proche de la nôtre, un h...</td>\n",
       "      <td>https://books.toscrape.com/media/cache/ee/cf/e...</td>\n",
       "    </tr>\n",
       "    <tr>\n",
       "      <th>3</th>\n",
       "      <td>e00eb4fd7b871a48</td>\n",
       "      <td>Sharp Objects</td>\n",
       "      <td>47.82</td>\n",
       "      <td>4</td>\n",
       "      <td>Mystery</td>\n",
       "      <td>In stock (20 available)</td>\n",
       "      <td>WICKED above her hipbone, GIRL across her hear...</td>\n",
       "      <td>https://books.toscrape.com/media/cache/c0/59/c...</td>\n",
       "    </tr>\n",
       "    <tr>\n",
       "      <th>4</th>\n",
       "      <td>4165285e1663650f</td>\n",
       "      <td>Sapiens: A Brief History of Humankind</td>\n",
       "      <td>54.23</td>\n",
       "      <td>5</td>\n",
       "      <td>History</td>\n",
       "      <td>In stock (20 available)</td>\n",
       "      <td>From a renowned historian comes a groundbreaki...</td>\n",
       "      <td>https://books.toscrape.com/media/cache/ce/5f/c...</td>\n",
       "    </tr>\n",
       "  </tbody>\n",
       "</table>\n",
       "</div>"
      ],
      "text/plain": [
       "                UPC                                  Title  Price (£)  Rating  \\\n",
       "0  a897fe39b1053632                   A Light in the Attic      51.77       3   \n",
       "1  90fa61229261140a                     Tipping the Velvet      53.74       1   \n",
       "2  6957f44c3847a760                             Soumission      50.10       1   \n",
       "3  e00eb4fd7b871a48                          Sharp Objects      47.82       4   \n",
       "4  4165285e1663650f  Sapiens: A Brief History of Humankind      54.23       5   \n",
       "\n",
       "                Genre             Availability  \\\n",
       "0              Poetry  In stock (22 available)   \n",
       "1  Historical Fiction  In stock (20 available)   \n",
       "2             Fiction  In stock (20 available)   \n",
       "3             Mystery  In stock (20 available)   \n",
       "4             History  In stock (20 available)   \n",
       "\n",
       "                                         Description  \\\n",
       "0  It's hard to imagine a world without A Light i...   \n",
       "1  \"Erotic and absorbing...Written with starling ...   \n",
       "2  Dans une France assez proche de la nôtre, un h...   \n",
       "3  WICKED above her hipbone, GIRL across her hear...   \n",
       "4  From a renowned historian comes a groundbreaki...   \n",
       "\n",
       "                                           Image_URL  \n",
       "0  https://books.toscrape.com/media/cache/fe/72/f...  \n",
       "1  https://books.toscrape.com/media/cache/08/e9/0...  \n",
       "2  https://books.toscrape.com/media/cache/ee/cf/e...  \n",
       "3  https://books.toscrape.com/media/cache/c0/59/c...  \n",
       "4  https://books.toscrape.com/media/cache/ce/5f/c...  "
      ]
     },
     "execution_count": 126,
     "metadata": {},
     "output_type": "execute_result"
    }
   ],
   "source": [
    "scrape_df=pd.read_csv(\"../data/raw/bookstoscrape.csv\")\n",
    "scrape_df.head()"
   ]
  },
  {
   "cell_type": "code",
   "execution_count": 127,
   "id": "b6c755bb-ebfd-461a-bc5d-4965edc6e46e",
   "metadata": {},
   "outputs": [],
   "source": [
    "scrape_df.drop(['Price (£)','Rating','Availability'],axis=1,inplace=True)"
   ]
  },
  {
   "cell_type": "code",
   "execution_count": 128,
   "id": "93b03048-d50b-4b86-ab2e-b5d001e7f75d",
   "metadata": {},
   "outputs": [],
   "source": [
    "scrape_df.rename(columns={\"UPC\": \"uid\",\"Title\":\"title\",\"Genre\":\"genre\",\"Description\":\"description\",\"Image_URL\":\"image_url\"}, inplace=True)"
   ]
  },
  {
   "cell_type": "code",
   "execution_count": 129,
   "id": "e99a8061-fa58-4f00-84d4-448b9a5c602f",
   "metadata": {},
   "outputs": [
    {
     "data": {
      "text/html": [
       "<div>\n",
       "<style scoped>\n",
       "    .dataframe tbody tr th:only-of-type {\n",
       "        vertical-align: middle;\n",
       "    }\n",
       "\n",
       "    .dataframe tbody tr th {\n",
       "        vertical-align: top;\n",
       "    }\n",
       "\n",
       "    .dataframe thead th {\n",
       "        text-align: right;\n",
       "    }\n",
       "</style>\n",
       "<table border=\"1\" class=\"dataframe\">\n",
       "  <thead>\n",
       "    <tr style=\"text-align: right;\">\n",
       "      <th></th>\n",
       "      <th>uid</th>\n",
       "      <th>title</th>\n",
       "      <th>genre</th>\n",
       "      <th>description</th>\n",
       "      <th>image_url</th>\n",
       "    </tr>\n",
       "  </thead>\n",
       "  <tbody>\n",
       "    <tr>\n",
       "      <th>0</th>\n",
       "      <td>a897fe39b1053632</td>\n",
       "      <td>A Light in the Attic</td>\n",
       "      <td>Poetry</td>\n",
       "      <td>It's hard to imagine a world without A Light i...</td>\n",
       "      <td>https://books.toscrape.com/media/cache/fe/72/f...</td>\n",
       "    </tr>\n",
       "    <tr>\n",
       "      <th>1</th>\n",
       "      <td>90fa61229261140a</td>\n",
       "      <td>Tipping the Velvet</td>\n",
       "      <td>Historical Fiction</td>\n",
       "      <td>\"Erotic and absorbing...Written with starling ...</td>\n",
       "      <td>https://books.toscrape.com/media/cache/08/e9/0...</td>\n",
       "    </tr>\n",
       "    <tr>\n",
       "      <th>2</th>\n",
       "      <td>6957f44c3847a760</td>\n",
       "      <td>Soumission</td>\n",
       "      <td>Fiction</td>\n",
       "      <td>Dans une France assez proche de la nôtre, un h...</td>\n",
       "      <td>https://books.toscrape.com/media/cache/ee/cf/e...</td>\n",
       "    </tr>\n",
       "    <tr>\n",
       "      <th>3</th>\n",
       "      <td>e00eb4fd7b871a48</td>\n",
       "      <td>Sharp Objects</td>\n",
       "      <td>Mystery</td>\n",
       "      <td>WICKED above her hipbone, GIRL across her hear...</td>\n",
       "      <td>https://books.toscrape.com/media/cache/c0/59/c...</td>\n",
       "    </tr>\n",
       "    <tr>\n",
       "      <th>4</th>\n",
       "      <td>4165285e1663650f</td>\n",
       "      <td>Sapiens: A Brief History of Humankind</td>\n",
       "      <td>History</td>\n",
       "      <td>From a renowned historian comes a groundbreaki...</td>\n",
       "      <td>https://books.toscrape.com/media/cache/ce/5f/c...</td>\n",
       "    </tr>\n",
       "  </tbody>\n",
       "</table>\n",
       "</div>"
      ],
      "text/plain": [
       "                uid                                  title  \\\n",
       "0  a897fe39b1053632                   A Light in the Attic   \n",
       "1  90fa61229261140a                     Tipping the Velvet   \n",
       "2  6957f44c3847a760                             Soumission   \n",
       "3  e00eb4fd7b871a48                          Sharp Objects   \n",
       "4  4165285e1663650f  Sapiens: A Brief History of Humankind   \n",
       "\n",
       "                genre                                        description  \\\n",
       "0              Poetry  It's hard to imagine a world without A Light i...   \n",
       "1  Historical Fiction  \"Erotic and absorbing...Written with starling ...   \n",
       "2             Fiction  Dans une France assez proche de la nôtre, un h...   \n",
       "3             Mystery  WICKED above her hipbone, GIRL across her hear...   \n",
       "4             History  From a renowned historian comes a groundbreaki...   \n",
       "\n",
       "                                           image_url  \n",
       "0  https://books.toscrape.com/media/cache/fe/72/f...  \n",
       "1  https://books.toscrape.com/media/cache/08/e9/0...  \n",
       "2  https://books.toscrape.com/media/cache/ee/cf/e...  \n",
       "3  https://books.toscrape.com/media/cache/c0/59/c...  \n",
       "4  https://books.toscrape.com/media/cache/ce/5f/c...  "
      ]
     },
     "execution_count": 129,
     "metadata": {},
     "output_type": "execute_result"
    }
   ],
   "source": [
    "scrape_df.head()"
   ]
  },
  {
   "cell_type": "code",
   "execution_count": 130,
   "id": "421a7e0f-42bf-4dbe-b245-c496d3393e9c",
   "metadata": {},
   "outputs": [
    {
     "data": {
      "text/html": [
       "<div>\n",
       "<style scoped>\n",
       "    .dataframe tbody tr th:only-of-type {\n",
       "        vertical-align: middle;\n",
       "    }\n",
       "\n",
       "    .dataframe tbody tr th {\n",
       "        vertical-align: top;\n",
       "    }\n",
       "\n",
       "    .dataframe thead th {\n",
       "        text-align: right;\n",
       "    }\n",
       "</style>\n",
       "<table border=\"1\" class=\"dataframe\">\n",
       "  <thead>\n",
       "    <tr style=\"text-align: right;\">\n",
       "      <th></th>\n",
       "      <th>uid</th>\n",
       "      <th>title</th>\n",
       "      <th>genre</th>\n",
       "      <th>description</th>\n",
       "      <th>image_url</th>\n",
       "      <th>author</th>\n",
       "    </tr>\n",
       "  </thead>\n",
       "  <tbody>\n",
       "    <tr>\n",
       "      <th>0</th>\n",
       "      <td>a897fe39b1053632</td>\n",
       "      <td>A Light in the Attic</td>\n",
       "      <td>Poetry</td>\n",
       "      <td>It's hard to imagine a world without A Light i...</td>\n",
       "      <td>https://books.toscrape.com/media/cache/fe/72/f...</td>\n",
       "      <td>Author Unknown</td>\n",
       "    </tr>\n",
       "    <tr>\n",
       "      <th>1</th>\n",
       "      <td>90fa61229261140a</td>\n",
       "      <td>Tipping the Velvet</td>\n",
       "      <td>Historical Fiction</td>\n",
       "      <td>\"Erotic and absorbing...Written with starling ...</td>\n",
       "      <td>https://books.toscrape.com/media/cache/08/e9/0...</td>\n",
       "      <td>Author Unknown</td>\n",
       "    </tr>\n",
       "    <tr>\n",
       "      <th>2</th>\n",
       "      <td>6957f44c3847a760</td>\n",
       "      <td>Soumission</td>\n",
       "      <td>Fiction</td>\n",
       "      <td>Dans une France assez proche de la nôtre, un h...</td>\n",
       "      <td>https://books.toscrape.com/media/cache/ee/cf/e...</td>\n",
       "      <td>Author Unknown</td>\n",
       "    </tr>\n",
       "    <tr>\n",
       "      <th>3</th>\n",
       "      <td>e00eb4fd7b871a48</td>\n",
       "      <td>Sharp Objects</td>\n",
       "      <td>Mystery</td>\n",
       "      <td>WICKED above her hipbone, GIRL across her hear...</td>\n",
       "      <td>https://books.toscrape.com/media/cache/c0/59/c...</td>\n",
       "      <td>Author Unknown</td>\n",
       "    </tr>\n",
       "    <tr>\n",
       "      <th>4</th>\n",
       "      <td>4165285e1663650f</td>\n",
       "      <td>Sapiens: A Brief History of Humankind</td>\n",
       "      <td>History</td>\n",
       "      <td>From a renowned historian comes a groundbreaki...</td>\n",
       "      <td>https://books.toscrape.com/media/cache/ce/5f/c...</td>\n",
       "      <td>Author Unknown</td>\n",
       "    </tr>\n",
       "  </tbody>\n",
       "</table>\n",
       "</div>"
      ],
      "text/plain": [
       "                uid                                  title  \\\n",
       "0  a897fe39b1053632                   A Light in the Attic   \n",
       "1  90fa61229261140a                     Tipping the Velvet   \n",
       "2  6957f44c3847a760                             Soumission   \n",
       "3  e00eb4fd7b871a48                          Sharp Objects   \n",
       "4  4165285e1663650f  Sapiens: A Brief History of Humankind   \n",
       "\n",
       "                genre                                        description  \\\n",
       "0              Poetry  It's hard to imagine a world without A Light i...   \n",
       "1  Historical Fiction  \"Erotic and absorbing...Written with starling ...   \n",
       "2             Fiction  Dans une France assez proche de la nôtre, un h...   \n",
       "3             Mystery  WICKED above her hipbone, GIRL across her hear...   \n",
       "4             History  From a renowned historian comes a groundbreaki...   \n",
       "\n",
       "                                           image_url          author  \n",
       "0  https://books.toscrape.com/media/cache/fe/72/f...  Author Unknown  \n",
       "1  https://books.toscrape.com/media/cache/08/e9/0...  Author Unknown  \n",
       "2  https://books.toscrape.com/media/cache/ee/cf/e...  Author Unknown  \n",
       "3  https://books.toscrape.com/media/cache/c0/59/c...  Author Unknown  \n",
       "4  https://books.toscrape.com/media/cache/ce/5f/c...  Author Unknown  "
      ]
     },
     "execution_count": 130,
     "metadata": {},
     "output_type": "execute_result"
    }
   ],
   "source": [
    "\n",
    "\n",
    "\n",
    "def extract_author(text):\n",
    "    if not isinstance(text, str):\n",
    "        return \"Author Unknown\"\n",
    "\n",
    "    # Case 1: \"X is the author\"\n",
    "    match1 = re.search(r\"([A-Z][a-z]+(?:\\s[A-Z][a-z]+){0,2})\\s+is the author\", text)\n",
    "    if match1:\n",
    "        return match1.group(1)\n",
    "\n",
    "    # Case 2: \"from the author ... X\"\n",
    "    match2 = re.search(r\"from the author.*?([A-Z][a-z]+(?:\\s[A-Z][a-z]+){0,2})\", text, flags=re.IGNORECASE)\n",
    "    if match2:\n",
    "        return match2.group(1)\n",
    "\n",
    "    # Case 3: \"written by X\"\n",
    "    match3 = re.search(r\"written by\\s+([A-Z][a-z]+(?:\\s[A-Z][a-z]+){0,2})\", text, flags=re.IGNORECASE)\n",
    "    if match3:\n",
    "        return match3.group(1)\n",
    "\n",
    "    return \"Author Unknown\"\n",
    "\n",
    "scrape_df[\"author\"] = scrape_df[\"description\"].apply(extract_author)\n",
    "\n",
    "scrape_df.head()"
   ]
  },
  {
   "cell_type": "code",
   "execution_count": 131,
   "id": "798948e9-32f5-4250-b447-9aeff488dbd1",
   "metadata": {},
   "outputs": [
    {
     "data": {
      "text/plain": [
       "np.int64(974)"
      ]
     },
     "execution_count": 131,
     "metadata": {},
     "output_type": "execute_result"
    }
   ],
   "source": [
    "scrape_df[\"author\"].eq(\"Author Unknown\").sum()\n"
   ]
  },
  {
   "cell_type": "code",
   "execution_count": 132,
   "id": "874a40b7-5c0a-4b55-a52b-3087f6f7110d",
   "metadata": {},
   "outputs": [],
   "source": [
    "scrape_df = scrape_df[[\"uid\",\"title\",\"author\",\"genre\",\"description\",\"image_url\"]]"
   ]
  },
  {
   "cell_type": "code",
   "execution_count": 133,
   "id": "ba150d8f-1cd7-4db1-b021-c1b9e4b9cfac",
   "metadata": {},
   "outputs": [
    {
     "data": {
      "text/html": [
       "<div>\n",
       "<style scoped>\n",
       "    .dataframe tbody tr th:only-of-type {\n",
       "        vertical-align: middle;\n",
       "    }\n",
       "\n",
       "    .dataframe tbody tr th {\n",
       "        vertical-align: top;\n",
       "    }\n",
       "\n",
       "    .dataframe thead th {\n",
       "        text-align: right;\n",
       "    }\n",
       "</style>\n",
       "<table border=\"1\" class=\"dataframe\">\n",
       "  <thead>\n",
       "    <tr style=\"text-align: right;\">\n",
       "      <th></th>\n",
       "      <th>uid</th>\n",
       "      <th>title</th>\n",
       "      <th>author</th>\n",
       "      <th>genre</th>\n",
       "      <th>description</th>\n",
       "      <th>image_url</th>\n",
       "    </tr>\n",
       "  </thead>\n",
       "  <tbody>\n",
       "    <tr>\n",
       "      <th>0</th>\n",
       "      <td>a897fe39b1053632</td>\n",
       "      <td>A Light in the Attic</td>\n",
       "      <td>Author Unknown</td>\n",
       "      <td>Poetry</td>\n",
       "      <td>It's hard to imagine a world without A Light i...</td>\n",
       "      <td>https://books.toscrape.com/media/cache/fe/72/f...</td>\n",
       "    </tr>\n",
       "    <tr>\n",
       "      <th>1</th>\n",
       "      <td>90fa61229261140a</td>\n",
       "      <td>Tipping the Velvet</td>\n",
       "      <td>Author Unknown</td>\n",
       "      <td>Historical Fiction</td>\n",
       "      <td>\"Erotic and absorbing...Written with starling ...</td>\n",
       "      <td>https://books.toscrape.com/media/cache/08/e9/0...</td>\n",
       "    </tr>\n",
       "    <tr>\n",
       "      <th>2</th>\n",
       "      <td>6957f44c3847a760</td>\n",
       "      <td>Soumission</td>\n",
       "      <td>Author Unknown</td>\n",
       "      <td>Fiction</td>\n",
       "      <td>Dans une France assez proche de la nôtre, un h...</td>\n",
       "      <td>https://books.toscrape.com/media/cache/ee/cf/e...</td>\n",
       "    </tr>\n",
       "    <tr>\n",
       "      <th>3</th>\n",
       "      <td>e00eb4fd7b871a48</td>\n",
       "      <td>Sharp Objects</td>\n",
       "      <td>Author Unknown</td>\n",
       "      <td>Mystery</td>\n",
       "      <td>WICKED above her hipbone, GIRL across her hear...</td>\n",
       "      <td>https://books.toscrape.com/media/cache/c0/59/c...</td>\n",
       "    </tr>\n",
       "    <tr>\n",
       "      <th>4</th>\n",
       "      <td>4165285e1663650f</td>\n",
       "      <td>Sapiens: A Brief History of Humankind</td>\n",
       "      <td>Author Unknown</td>\n",
       "      <td>History</td>\n",
       "      <td>From a renowned historian comes a groundbreaki...</td>\n",
       "      <td>https://books.toscrape.com/media/cache/ce/5f/c...</td>\n",
       "    </tr>\n",
       "  </tbody>\n",
       "</table>\n",
       "</div>"
      ],
      "text/plain": [
       "                uid                                  title          author  \\\n",
       "0  a897fe39b1053632                   A Light in the Attic  Author Unknown   \n",
       "1  90fa61229261140a                     Tipping the Velvet  Author Unknown   \n",
       "2  6957f44c3847a760                             Soumission  Author Unknown   \n",
       "3  e00eb4fd7b871a48                          Sharp Objects  Author Unknown   \n",
       "4  4165285e1663650f  Sapiens: A Brief History of Humankind  Author Unknown   \n",
       "\n",
       "                genre                                        description  \\\n",
       "0              Poetry  It's hard to imagine a world without A Light i...   \n",
       "1  Historical Fiction  \"Erotic and absorbing...Written with starling ...   \n",
       "2             Fiction  Dans une France assez proche de la nôtre, un h...   \n",
       "3             Mystery  WICKED above her hipbone, GIRL across her hear...   \n",
       "4             History  From a renowned historian comes a groundbreaki...   \n",
       "\n",
       "                                           image_url  \n",
       "0  https://books.toscrape.com/media/cache/fe/72/f...  \n",
       "1  https://books.toscrape.com/media/cache/08/e9/0...  \n",
       "2  https://books.toscrape.com/media/cache/ee/cf/e...  \n",
       "3  https://books.toscrape.com/media/cache/c0/59/c...  \n",
       "4  https://books.toscrape.com/media/cache/ce/5f/c...  "
      ]
     },
     "execution_count": 133,
     "metadata": {},
     "output_type": "execute_result"
    }
   ],
   "source": [
    "scrape_df.head()"
   ]
  },
  {
   "cell_type": "code",
   "execution_count": 134,
   "id": "10656238-3890-45d5-abbb-76036f731ff3",
   "metadata": {},
   "outputs": [
    {
     "data": {
      "text/plain": [
       "(1000, 6)"
      ]
     },
     "execution_count": 134,
     "metadata": {},
     "output_type": "execute_result"
    }
   ],
   "source": [
    "scrape_df.shape"
   ]
  },
  {
   "cell_type": "code",
   "execution_count": 135,
   "id": "f12914b5-fcd0-4554-a01e-75ada08c811a",
   "metadata": {},
   "outputs": [
    {
     "data": {
      "text/plain": [
       "uid            0\n",
       "title          0\n",
       "author         0\n",
       "genre          0\n",
       "description    2\n",
       "image_url      0\n",
       "dtype: int64"
      ]
     },
     "execution_count": 135,
     "metadata": {},
     "output_type": "execute_result"
    }
   ],
   "source": [
    "scrape_df.isna().sum()"
   ]
  },
  {
   "cell_type": "code",
   "execution_count": 136,
   "id": "63901520-0b88-4e35-9092-5bd20351dd97",
   "metadata": {},
   "outputs": [
    {
     "name": "stderr",
     "output_type": "stream",
     "text": [
      "C:\\Users\\sheri\\AppData\\Local\\Temp\\ipykernel_16488\\1265899837.py:1: FutureWarning: A value is trying to be set on a copy of a DataFrame or Series through chained assignment using an inplace method.\n",
      "The behavior will change in pandas 3.0. This inplace method will never work because the intermediate object on which we are setting values always behaves as a copy.\n",
      "\n",
      "For example, when doing 'df[col].method(value, inplace=True)', try using 'df.method({col: value}, inplace=True)' or df[col] = df[col].method(value) instead, to perform the operation inplace on the original object.\n",
      "\n",
      "\n",
      "  scrape_df['description'].fillna(\"A book written for you\",inplace=True)\n"
     ]
    }
   ],
   "source": [
    "scrape_df['description'].fillna(\"A book written for you\",inplace=True)"
   ]
  },
  {
   "cell_type": "code",
   "execution_count": 137,
   "id": "9b5394c7-634a-4daa-8a5e-c3e84516b482",
   "metadata": {},
   "outputs": [
    {
     "data": {
      "text/plain": [
       "uid            0\n",
       "title          0\n",
       "author         0\n",
       "genre          0\n",
       "description    0\n",
       "image_url      0\n",
       "dtype: int64"
      ]
     },
     "execution_count": 137,
     "metadata": {},
     "output_type": "execute_result"
    }
   ],
   "source": [
    "scrape_df.isna().sum()"
   ]
  },
  {
   "cell_type": "code",
   "execution_count": 138,
   "id": "ade8a298-9d24-406d-b5bf-5f5489006a31",
   "metadata": {},
   "outputs": [
    {
     "data": {
      "text/html": [
       "<div>\n",
       "<style scoped>\n",
       "    .dataframe tbody tr th:only-of-type {\n",
       "        vertical-align: middle;\n",
       "    }\n",
       "\n",
       "    .dataframe tbody tr th {\n",
       "        vertical-align: top;\n",
       "    }\n",
       "\n",
       "    .dataframe thead th {\n",
       "        text-align: right;\n",
       "    }\n",
       "</style>\n",
       "<table border=\"1\" class=\"dataframe\">\n",
       "  <thead>\n",
       "    <tr style=\"text-align: right;\">\n",
       "      <th></th>\n",
       "      <th>Title</th>\n",
       "      <th>Authors</th>\n",
       "      <th>Publisher</th>\n",
       "      <th>Published Date</th>\n",
       "      <th>Description</th>\n",
       "      <th>Page Count</th>\n",
       "      <th>Categories</th>\n",
       "      <th>Average Rating</th>\n",
       "      <th>Ratings Count</th>\n",
       "      <th>Language</th>\n",
       "      <th>Preview Link</th>\n",
       "      <th>ISBNs</th>\n",
       "      <th>Image</th>\n",
       "    </tr>\n",
       "  </thead>\n",
       "  <tbody>\n",
       "    <tr>\n",
       "      <th>0</th>\n",
       "      <td>Harry Potter and the Deathly Hallows</td>\n",
       "      <td>J.K. Rowling</td>\n",
       "      <td>Pottermore Publishing</td>\n",
       "      <td>2015-12-08</td>\n",
       "      <td>'Give me Harry Potter,' said Voldemort's voice...</td>\n",
       "      <td>766.0</td>\n",
       "      <td>Juvenile Fiction</td>\n",
       "      <td>4.5</td>\n",
       "      <td>68.0</td>\n",
       "      <td>en</td>\n",
       "      <td>http://books.google.de/books?id=gCtazG4ZXlQC&amp;p...</td>\n",
       "      <td>9781781100264, 1781100268</td>\n",
       "      <td>http://books.google.com/books/content?id=gCtaz...</td>\n",
       "    </tr>\n",
       "    <tr>\n",
       "      <th>1</th>\n",
       "      <td>Harry Potter: The Complete Collection (1-7)</td>\n",
       "      <td>J.K. Rowling</td>\n",
       "      <td>Pottermore Publishing</td>\n",
       "      <td>2015-12-14</td>\n",
       "      <td>When Harry Potter is left on a doorstep as a b...</td>\n",
       "      <td>4140.0</td>\n",
       "      <td>Juvenile Fiction</td>\n",
       "      <td>4.0</td>\n",
       "      <td>57.0</td>\n",
       "      <td>en</td>\n",
       "      <td>http://books.google.de/books?id=f280CwAAQBAJ&amp;d...</td>\n",
       "      <td>9781781106464, 1781106460</td>\n",
       "      <td>http://books.google.com/books/content?id=f280C...</td>\n",
       "    </tr>\n",
       "    <tr>\n",
       "      <th>2</th>\n",
       "      <td>Harry Potter and the Order of the Phoenix</td>\n",
       "      <td>J. K. Rowling, Merwin Smith</td>\n",
       "      <td>NaN</td>\n",
       "      <td>2003-06</td>\n",
       "      <td>Dumbledore lowered his hands and surveyed Harr...</td>\n",
       "      <td>NaN</td>\n",
       "      <td>England</td>\n",
       "      <td>NaN</td>\n",
       "      <td>NaN</td>\n",
       "      <td>en</td>\n",
       "      <td>http://books.google.de/books?id=UIBFPgAACAAJ&amp;d...</td>\n",
       "      <td>0747569436, 9780747569435</td>\n",
       "      <td>http://books.google.com/books/content?id=UIBFP...</td>\n",
       "    </tr>\n",
       "    <tr>\n",
       "      <th>3</th>\n",
       "      <td>Harry Potter</td>\n",
       "      <td>J. K. Rowling</td>\n",
       "      <td>Bloomsbury Publishing</td>\n",
       "      <td>2007-10</td>\n",
       "      <td>A fabulous opportunity to own all seven Harry ...</td>\n",
       "      <td>7.0</td>\n",
       "      <td>Fantasy fiction, English</td>\n",
       "      <td>5.0</td>\n",
       "      <td>1.0</td>\n",
       "      <td>en</td>\n",
       "      <td>http://books.google.de/books?id=18LKPQAACAAJ&amp;d...</td>\n",
       "      <td>0747593698, 9780747593690</td>\n",
       "      <td>http://books.google.com/books/content?id=18LKP...</td>\n",
       "    </tr>\n",
       "    <tr>\n",
       "      <th>4</th>\n",
       "      <td>Guide to the Harry Potter Novels</td>\n",
       "      <td>Julia Eccleshare</td>\n",
       "      <td>A&amp;C Black</td>\n",
       "      <td>2002-04-01</td>\n",
       "      <td>JK Rowling now is half-way through a series wh...</td>\n",
       "      <td>124.0</td>\n",
       "      <td>Literary Criticism</td>\n",
       "      <td>5.0</td>\n",
       "      <td>2.0</td>\n",
       "      <td>en</td>\n",
       "      <td>http://books.google.de/books?id=cHjF5K2uVdsC&amp;p...</td>\n",
       "      <td>9781847144188, 1847144187</td>\n",
       "      <td>http://books.google.com/books/content?id=cHjF5...</td>\n",
       "    </tr>\n",
       "  </tbody>\n",
       "</table>\n",
       "</div>"
      ],
      "text/plain": [
       "                                         Title                      Authors  \\\n",
       "0         Harry Potter and the Deathly Hallows                 J.K. Rowling   \n",
       "1  Harry Potter: The Complete Collection (1-7)                 J.K. Rowling   \n",
       "2    Harry Potter and the Order of the Phoenix  J. K. Rowling, Merwin Smith   \n",
       "3                                 Harry Potter                J. K. Rowling   \n",
       "4             Guide to the Harry Potter Novels             Julia Eccleshare   \n",
       "\n",
       "               Publisher Published Date  \\\n",
       "0  Pottermore Publishing     2015-12-08   \n",
       "1  Pottermore Publishing     2015-12-14   \n",
       "2                    NaN        2003-06   \n",
       "3  Bloomsbury Publishing        2007-10   \n",
       "4              A&C Black     2002-04-01   \n",
       "\n",
       "                                         Description  Page Count  \\\n",
       "0  'Give me Harry Potter,' said Voldemort's voice...       766.0   \n",
       "1  When Harry Potter is left on a doorstep as a b...      4140.0   \n",
       "2  Dumbledore lowered his hands and surveyed Harr...         NaN   \n",
       "3  A fabulous opportunity to own all seven Harry ...         7.0   \n",
       "4  JK Rowling now is half-way through a series wh...       124.0   \n",
       "\n",
       "                 Categories  Average Rating  Ratings Count Language  \\\n",
       "0          Juvenile Fiction             4.5           68.0       en   \n",
       "1          Juvenile Fiction             4.0           57.0       en   \n",
       "2                   England             NaN            NaN       en   \n",
       "3  Fantasy fiction, English             5.0            1.0       en   \n",
       "4        Literary Criticism             5.0            2.0       en   \n",
       "\n",
       "                                        Preview Link  \\\n",
       "0  http://books.google.de/books?id=gCtazG4ZXlQC&p...   \n",
       "1  http://books.google.de/books?id=f280CwAAQBAJ&d...   \n",
       "2  http://books.google.de/books?id=UIBFPgAACAAJ&d...   \n",
       "3  http://books.google.de/books?id=18LKPQAACAAJ&d...   \n",
       "4  http://books.google.de/books?id=cHjF5K2uVdsC&p...   \n",
       "\n",
       "                       ISBNs  \\\n",
       "0  9781781100264, 1781100268   \n",
       "1  9781781106464, 1781106460   \n",
       "2  0747569436, 9780747569435   \n",
       "3  0747593698, 9780747593690   \n",
       "4  9781847144188, 1847144187   \n",
       "\n",
       "                                               Image  \n",
       "0  http://books.google.com/books/content?id=gCtaz...  \n",
       "1  http://books.google.com/books/content?id=f280C...  \n",
       "2  http://books.google.com/books/content?id=UIBFP...  \n",
       "3  http://books.google.com/books/content?id=18LKP...  \n",
       "4  http://books.google.com/books/content?id=cHjF5...  "
      ]
     },
     "execution_count": 138,
     "metadata": {},
     "output_type": "execute_result"
    }
   ],
   "source": [
    "googlebooks_df=pd.read_csv(\"../data/raw/googleapi_books.csv\")\n",
    "googlebooks_df.head()"
   ]
  },
  {
   "cell_type": "code",
   "execution_count": 139,
   "id": "b5df5621-3d33-4f97-8981-1fd49cc41e4a",
   "metadata": {},
   "outputs": [],
   "source": [
    "googlebooks_df.drop(['Publisher','Published Date','Page Count','Average Rating','Ratings Count','Language','Preview Link'],axis=1,inplace=True)"
   ]
  },
  {
   "cell_type": "code",
   "execution_count": 140,
   "id": "9f26a37a-e2d4-4371-b0f2-ad1a5265eab5",
   "metadata": {},
   "outputs": [
    {
     "data": {
      "text/html": [
       "<div>\n",
       "<style scoped>\n",
       "    .dataframe tbody tr th:only-of-type {\n",
       "        vertical-align: middle;\n",
       "    }\n",
       "\n",
       "    .dataframe tbody tr th {\n",
       "        vertical-align: top;\n",
       "    }\n",
       "\n",
       "    .dataframe thead th {\n",
       "        text-align: right;\n",
       "    }\n",
       "</style>\n",
       "<table border=\"1\" class=\"dataframe\">\n",
       "  <thead>\n",
       "    <tr style=\"text-align: right;\">\n",
       "      <th></th>\n",
       "      <th>Title</th>\n",
       "      <th>Authors</th>\n",
       "      <th>Description</th>\n",
       "      <th>Categories</th>\n",
       "      <th>ISBNs</th>\n",
       "      <th>Image</th>\n",
       "    </tr>\n",
       "  </thead>\n",
       "  <tbody>\n",
       "    <tr>\n",
       "      <th>0</th>\n",
       "      <td>Harry Potter and the Deathly Hallows</td>\n",
       "      <td>J.K. Rowling</td>\n",
       "      <td>'Give me Harry Potter,' said Voldemort's voice...</td>\n",
       "      <td>Juvenile Fiction</td>\n",
       "      <td>9781781100264, 1781100268</td>\n",
       "      <td>http://books.google.com/books/content?id=gCtaz...</td>\n",
       "    </tr>\n",
       "    <tr>\n",
       "      <th>1</th>\n",
       "      <td>Harry Potter: The Complete Collection (1-7)</td>\n",
       "      <td>J.K. Rowling</td>\n",
       "      <td>When Harry Potter is left on a doorstep as a b...</td>\n",
       "      <td>Juvenile Fiction</td>\n",
       "      <td>9781781106464, 1781106460</td>\n",
       "      <td>http://books.google.com/books/content?id=f280C...</td>\n",
       "    </tr>\n",
       "    <tr>\n",
       "      <th>2</th>\n",
       "      <td>Harry Potter and the Order of the Phoenix</td>\n",
       "      <td>J. K. Rowling, Merwin Smith</td>\n",
       "      <td>Dumbledore lowered his hands and surveyed Harr...</td>\n",
       "      <td>England</td>\n",
       "      <td>0747569436, 9780747569435</td>\n",
       "      <td>http://books.google.com/books/content?id=UIBFP...</td>\n",
       "    </tr>\n",
       "    <tr>\n",
       "      <th>3</th>\n",
       "      <td>Harry Potter</td>\n",
       "      <td>J. K. Rowling</td>\n",
       "      <td>A fabulous opportunity to own all seven Harry ...</td>\n",
       "      <td>Fantasy fiction, English</td>\n",
       "      <td>0747593698, 9780747593690</td>\n",
       "      <td>http://books.google.com/books/content?id=18LKP...</td>\n",
       "    </tr>\n",
       "    <tr>\n",
       "      <th>4</th>\n",
       "      <td>Guide to the Harry Potter Novels</td>\n",
       "      <td>Julia Eccleshare</td>\n",
       "      <td>JK Rowling now is half-way through a series wh...</td>\n",
       "      <td>Literary Criticism</td>\n",
       "      <td>9781847144188, 1847144187</td>\n",
       "      <td>http://books.google.com/books/content?id=cHjF5...</td>\n",
       "    </tr>\n",
       "  </tbody>\n",
       "</table>\n",
       "</div>"
      ],
      "text/plain": [
       "                                         Title                      Authors  \\\n",
       "0         Harry Potter and the Deathly Hallows                 J.K. Rowling   \n",
       "1  Harry Potter: The Complete Collection (1-7)                 J.K. Rowling   \n",
       "2    Harry Potter and the Order of the Phoenix  J. K. Rowling, Merwin Smith   \n",
       "3                                 Harry Potter                J. K. Rowling   \n",
       "4             Guide to the Harry Potter Novels             Julia Eccleshare   \n",
       "\n",
       "                                         Description  \\\n",
       "0  'Give me Harry Potter,' said Voldemort's voice...   \n",
       "1  When Harry Potter is left on a doorstep as a b...   \n",
       "2  Dumbledore lowered his hands and surveyed Harr...   \n",
       "3  A fabulous opportunity to own all seven Harry ...   \n",
       "4  JK Rowling now is half-way through a series wh...   \n",
       "\n",
       "                 Categories                      ISBNs  \\\n",
       "0          Juvenile Fiction  9781781100264, 1781100268   \n",
       "1          Juvenile Fiction  9781781106464, 1781106460   \n",
       "2                   England  0747569436, 9780747569435   \n",
       "3  Fantasy fiction, English  0747593698, 9780747593690   \n",
       "4        Literary Criticism  9781847144188, 1847144187   \n",
       "\n",
       "                                               Image  \n",
       "0  http://books.google.com/books/content?id=gCtaz...  \n",
       "1  http://books.google.com/books/content?id=f280C...  \n",
       "2  http://books.google.com/books/content?id=UIBFP...  \n",
       "3  http://books.google.com/books/content?id=18LKP...  \n",
       "4  http://books.google.com/books/content?id=cHjF5...  "
      ]
     },
     "execution_count": 140,
     "metadata": {},
     "output_type": "execute_result"
    }
   ],
   "source": [
    "googlebooks_df.head()\n"
   ]
  },
  {
   "cell_type": "code",
   "execution_count": 141,
   "id": "11ada6d4-644c-4770-9669-7f612c283855",
   "metadata": {},
   "outputs": [],
   "source": [
    "# Rename\n",
    "googlebooks_df.rename(columns={\"Title\": \"title\",\"Authors\": \"author\",\"Description\":\"description\",\"Categories\":\"genre\",\"ISBNs\":\"uid\",\"Image\":\"image_url\"}, inplace=True)\n",
    "\n",
    "# Reorder\n",
    "googlebooks_df = googlebooks_df[[\"uid\", \"title\", \"author\",\"genre\",\"description\",\"image_url\"]]"
   ]
  },
  {
   "cell_type": "code",
   "execution_count": 142,
   "id": "5177f80f-ab24-4e28-985b-6b460add1b51",
   "metadata": {},
   "outputs": [
    {
     "data": {
      "text/html": [
       "<div>\n",
       "<style scoped>\n",
       "    .dataframe tbody tr th:only-of-type {\n",
       "        vertical-align: middle;\n",
       "    }\n",
       "\n",
       "    .dataframe tbody tr th {\n",
       "        vertical-align: top;\n",
       "    }\n",
       "\n",
       "    .dataframe thead th {\n",
       "        text-align: right;\n",
       "    }\n",
       "</style>\n",
       "<table border=\"1\" class=\"dataframe\">\n",
       "  <thead>\n",
       "    <tr style=\"text-align: right;\">\n",
       "      <th></th>\n",
       "      <th>uid</th>\n",
       "      <th>title</th>\n",
       "      <th>author</th>\n",
       "      <th>genre</th>\n",
       "      <th>description</th>\n",
       "      <th>image_url</th>\n",
       "    </tr>\n",
       "  </thead>\n",
       "  <tbody>\n",
       "    <tr>\n",
       "      <th>0</th>\n",
       "      <td>9781781100264, 1781100268</td>\n",
       "      <td>Harry Potter and the Deathly Hallows</td>\n",
       "      <td>J.K. Rowling</td>\n",
       "      <td>Juvenile Fiction</td>\n",
       "      <td>'Give me Harry Potter,' said Voldemort's voice...</td>\n",
       "      <td>http://books.google.com/books/content?id=gCtaz...</td>\n",
       "    </tr>\n",
       "    <tr>\n",
       "      <th>1</th>\n",
       "      <td>9781781106464, 1781106460</td>\n",
       "      <td>Harry Potter: The Complete Collection (1-7)</td>\n",
       "      <td>J.K. Rowling</td>\n",
       "      <td>Juvenile Fiction</td>\n",
       "      <td>When Harry Potter is left on a doorstep as a b...</td>\n",
       "      <td>http://books.google.com/books/content?id=f280C...</td>\n",
       "    </tr>\n",
       "    <tr>\n",
       "      <th>2</th>\n",
       "      <td>0747569436, 9780747569435</td>\n",
       "      <td>Harry Potter and the Order of the Phoenix</td>\n",
       "      <td>J. K. Rowling, Merwin Smith</td>\n",
       "      <td>England</td>\n",
       "      <td>Dumbledore lowered his hands and surveyed Harr...</td>\n",
       "      <td>http://books.google.com/books/content?id=UIBFP...</td>\n",
       "    </tr>\n",
       "    <tr>\n",
       "      <th>3</th>\n",
       "      <td>0747593698, 9780747593690</td>\n",
       "      <td>Harry Potter</td>\n",
       "      <td>J. K. Rowling</td>\n",
       "      <td>Fantasy fiction, English</td>\n",
       "      <td>A fabulous opportunity to own all seven Harry ...</td>\n",
       "      <td>http://books.google.com/books/content?id=18LKP...</td>\n",
       "    </tr>\n",
       "    <tr>\n",
       "      <th>4</th>\n",
       "      <td>9781847144188, 1847144187</td>\n",
       "      <td>Guide to the Harry Potter Novels</td>\n",
       "      <td>Julia Eccleshare</td>\n",
       "      <td>Literary Criticism</td>\n",
       "      <td>JK Rowling now is half-way through a series wh...</td>\n",
       "      <td>http://books.google.com/books/content?id=cHjF5...</td>\n",
       "    </tr>\n",
       "  </tbody>\n",
       "</table>\n",
       "</div>"
      ],
      "text/plain": [
       "                         uid                                        title  \\\n",
       "0  9781781100264, 1781100268         Harry Potter and the Deathly Hallows   \n",
       "1  9781781106464, 1781106460  Harry Potter: The Complete Collection (1-7)   \n",
       "2  0747569436, 9780747569435    Harry Potter and the Order of the Phoenix   \n",
       "3  0747593698, 9780747593690                                 Harry Potter   \n",
       "4  9781847144188, 1847144187             Guide to the Harry Potter Novels   \n",
       "\n",
       "                        author                     genre  \\\n",
       "0                 J.K. Rowling          Juvenile Fiction   \n",
       "1                 J.K. Rowling          Juvenile Fiction   \n",
       "2  J. K. Rowling, Merwin Smith                   England   \n",
       "3                J. K. Rowling  Fantasy fiction, English   \n",
       "4             Julia Eccleshare        Literary Criticism   \n",
       "\n",
       "                                         description  \\\n",
       "0  'Give me Harry Potter,' said Voldemort's voice...   \n",
       "1  When Harry Potter is left on a doorstep as a b...   \n",
       "2  Dumbledore lowered his hands and surveyed Harr...   \n",
       "3  A fabulous opportunity to own all seven Harry ...   \n",
       "4  JK Rowling now is half-way through a series wh...   \n",
       "\n",
       "                                           image_url  \n",
       "0  http://books.google.com/books/content?id=gCtaz...  \n",
       "1  http://books.google.com/books/content?id=f280C...  \n",
       "2  http://books.google.com/books/content?id=UIBFP...  \n",
       "3  http://books.google.com/books/content?id=18LKP...  \n",
       "4  http://books.google.com/books/content?id=cHjF5...  "
      ]
     },
     "execution_count": 142,
     "metadata": {},
     "output_type": "execute_result"
    }
   ],
   "source": [
    "googlebooks_df.head()"
   ]
  },
  {
   "cell_type": "code",
   "execution_count": 143,
   "id": "a55a828c-9477-46d6-ab69-01d5134e0d52",
   "metadata": {},
   "outputs": [
    {
     "data": {
      "text/plain": [
       "(18007, 6)"
      ]
     },
     "execution_count": 143,
     "metadata": {},
     "output_type": "execute_result"
    }
   ],
   "source": [
    "googlebooks_df.shape"
   ]
  },
  {
   "cell_type": "code",
   "execution_count": 144,
   "id": "2c6c01b6-153f-4aed-9e71-76c5e4a14a8d",
   "metadata": {},
   "outputs": [
    {
     "data": {
      "text/plain": [
       "uid              227\n",
       "title              1\n",
       "author          4217\n",
       "genre           3685\n",
       "description    10658\n",
       "image_url        874\n",
       "dtype: int64"
      ]
     },
     "execution_count": 144,
     "metadata": {},
     "output_type": "execute_result"
    }
   ],
   "source": [
    "googlebooks_df.isna().sum()"
   ]
  },
  {
   "cell_type": "code",
   "execution_count": 145,
   "id": "7506ea61-c233-430d-8452-4cfc0e39cc2a",
   "metadata": {},
   "outputs": [
    {
     "data": {
      "text/plain": [
       "uid            object\n",
       "title          object\n",
       "author         object\n",
       "genre          object\n",
       "description    object\n",
       "image_url      object\n",
       "dtype: object"
      ]
     },
     "execution_count": 145,
     "metadata": {},
     "output_type": "execute_result"
    }
   ],
   "source": [
    "googlebooks_df.dtypes\n"
   ]
  },
  {
   "cell_type": "code",
   "execution_count": 146,
   "id": "5dbd3308-1f99-4018-a18a-93cf9bb67519",
   "metadata": {},
   "outputs": [
    {
     "data": {
      "text/html": [
       "<div>\n",
       "<style scoped>\n",
       "    .dataframe tbody tr th:only-of-type {\n",
       "        vertical-align: middle;\n",
       "    }\n",
       "\n",
       "    .dataframe tbody tr th {\n",
       "        vertical-align: top;\n",
       "    }\n",
       "\n",
       "    .dataframe thead th {\n",
       "        text-align: right;\n",
       "    }\n",
       "</style>\n",
       "<table border=\"1\" class=\"dataframe\">\n",
       "  <thead>\n",
       "    <tr style=\"text-align: right;\">\n",
       "      <th></th>\n",
       "      <th>uid</th>\n",
       "      <th>title</th>\n",
       "      <th>author</th>\n",
       "      <th>genre</th>\n",
       "      <th>description</th>\n",
       "      <th>image_url</th>\n",
       "    </tr>\n",
       "  </thead>\n",
       "  <tbody>\n",
       "    <tr>\n",
       "      <th>3486</th>\n",
       "      <td>9783819207402, 3819207406</td>\n",
       "      <td>NaN</td>\n",
       "      <td>NaN</td>\n",
       "      <td>NaN</td>\n",
       "      <td>NaN</td>\n",
       "      <td>http://books.google.com/books/content?id=ac9lE...</td>\n",
       "    </tr>\n",
       "  </tbody>\n",
       "</table>\n",
       "</div>"
      ],
      "text/plain": [
       "                            uid title author genre description  \\\n",
       "3486  9783819207402, 3819207406   NaN    NaN   NaN         NaN   \n",
       "\n",
       "                                              image_url  \n",
       "3486  http://books.google.com/books/content?id=ac9lE...  "
      ]
     },
     "execution_count": 146,
     "metadata": {},
     "output_type": "execute_result"
    }
   ],
   "source": [
    "googlebooks_df[googlebooks_df[\"title\"].isnull()]\n"
   ]
  },
  {
   "cell_type": "code",
   "execution_count": 147,
   "id": "15cb02e7-a04b-495e-91b1-611ca369d831",
   "metadata": {},
   "outputs": [],
   "source": [
    "googlebooks_df.dropna(subset=[\"title\"], inplace=True)"
   ]
  },
  {
   "cell_type": "code",
   "execution_count": 148,
   "id": "e2e4b0a0-518c-42ab-b279-ffd25771cda7",
   "metadata": {},
   "outputs": [
    {
     "data": {
      "text/plain": [
       "(18006, 6)"
      ]
     },
     "execution_count": 148,
     "metadata": {},
     "output_type": "execute_result"
    }
   ],
   "source": [
    "googlebooks_df.shape"
   ]
  },
  {
   "cell_type": "code",
   "execution_count": 149,
   "id": "b6c4b9f6-cc9e-492e-a8d7-0e23a6bc9248",
   "metadata": {},
   "outputs": [
    {
     "data": {
      "text/html": [
       "<div>\n",
       "<style scoped>\n",
       "    .dataframe tbody tr th:only-of-type {\n",
       "        vertical-align: middle;\n",
       "    }\n",
       "\n",
       "    .dataframe tbody tr th {\n",
       "        vertical-align: top;\n",
       "    }\n",
       "\n",
       "    .dataframe thead th {\n",
       "        text-align: right;\n",
       "    }\n",
       "</style>\n",
       "<table border=\"1\" class=\"dataframe\">\n",
       "  <thead>\n",
       "    <tr style=\"text-align: right;\">\n",
       "      <th></th>\n",
       "      <th>uid</th>\n",
       "      <th>title</th>\n",
       "      <th>author</th>\n",
       "      <th>genre</th>\n",
       "      <th>description</th>\n",
       "      <th>image_url</th>\n",
       "    </tr>\n",
       "  </thead>\n",
       "  <tbody>\n",
       "    <tr>\n",
       "      <th>20</th>\n",
       "      <td>NaN</td>\n",
       "      <td>Harry Potter</td>\n",
       "      <td>NaN</td>\n",
       "      <td>NaN</td>\n",
       "      <td>NaN</td>\n",
       "      <td>http://books.google.com/books/content?id=n3vng...</td>\n",
       "    </tr>\n",
       "    <tr>\n",
       "      <th>46</th>\n",
       "      <td>NaN</td>\n",
       "      <td>Fantasy Novels: Invitations to Hell</td>\n",
       "      <td>Creation Liberty Evangelism, Christopher J.E. ...</td>\n",
       "      <td>Education</td>\n",
       "      <td>Fantasy novels &amp; movies are not just harmless ...</td>\n",
       "      <td>http://books.google.com/books/content?id=TdeNB...</td>\n",
       "    </tr>\n",
       "    <tr>\n",
       "      <th>49</th>\n",
       "      <td>NaN</td>\n",
       "      <td>Billboard</td>\n",
       "      <td>NaN</td>\n",
       "      <td>NaN</td>\n",
       "      <td>In its 114th year, Billboard remains the world...</td>\n",
       "      <td>http://books.google.com/books/content?id=cQ8EA...</td>\n",
       "    </tr>\n",
       "    <tr>\n",
       "      <th>80</th>\n",
       "      <td>NaN</td>\n",
       "      <td>Pratiyogita Darpan</td>\n",
       "      <td>NaN</td>\n",
       "      <td>NaN</td>\n",
       "      <td>Pratiyogita Darpan (monthly magazine) is India...</td>\n",
       "      <td>http://books.google.com/books/content?id=UugDA...</td>\n",
       "    </tr>\n",
       "    <tr>\n",
       "      <th>317</th>\n",
       "      <td>NaN</td>\n",
       "      <td>Der Wet Bed Pride Guide</td>\n",
       "      <td>Florence Grant, Forrest Grant</td>\n",
       "      <td>Fiction</td>\n",
       "      <td>Gabriel ist ein Bettnässer, der in bereits nas...</td>\n",
       "      <td>http://books.google.com/books/content?id=zMxoE...</td>\n",
       "    </tr>\n",
       "    <tr>\n",
       "      <th>...</th>\n",
       "      <td>...</td>\n",
       "      <td>...</td>\n",
       "      <td>...</td>\n",
       "      <td>...</td>\n",
       "      <td>...</td>\n",
       "      <td>...</td>\n",
       "    </tr>\n",
       "    <tr>\n",
       "      <th>17471</th>\n",
       "      <td>NaN</td>\n",
       "      <td>Studies in Later Greek Comedy</td>\n",
       "      <td>Thomas Bertram Lonsdale Webster</td>\n",
       "      <td>NaN</td>\n",
       "      <td>NaN</td>\n",
       "      <td>http://books.google.com/books/content?id=hBgNA...</td>\n",
       "    </tr>\n",
       "    <tr>\n",
       "      <th>17843</th>\n",
       "      <td>NaN</td>\n",
       "      <td>Mythological Body</td>\n",
       "      <td>Premyogi Vajra</td>\n",
       "      <td>Art</td>\n",
       "      <td>Enter a world where ancient mythology and mode...</td>\n",
       "      <td>http://books.google.com/books/content?id=zjr3E...</td>\n",
       "    </tr>\n",
       "    <tr>\n",
       "      <th>17977</th>\n",
       "      <td>NaN</td>\n",
       "      <td>NEC The Computer and Communications Company</td>\n",
       "      <td>NaN</td>\n",
       "      <td>NaN</td>\n",
       "      <td>NaN</td>\n",
       "      <td>http://books.google.com/books/content?id=wtJY6...</td>\n",
       "    </tr>\n",
       "    <tr>\n",
       "      <th>17983</th>\n",
       "      <td>NaN</td>\n",
       "      <td>COPPER IN CHILE</td>\n",
       "      <td>THEODORE H. MORAN</td>\n",
       "      <td>NaN</td>\n",
       "      <td>NaN</td>\n",
       "      <td>http://books.google.com/books/content?id=OPzu4...</td>\n",
       "    </tr>\n",
       "    <tr>\n",
       "      <th>17984</th>\n",
       "      <td>NaN</td>\n",
       "      <td>the role of the financial sector in the econom...</td>\n",
       "      <td>rita m. maldonado</td>\n",
       "      <td>NaN</td>\n",
       "      <td>NaN</td>\n",
       "      <td>http://books.google.com/books/content?id=Evmu6...</td>\n",
       "    </tr>\n",
       "  </tbody>\n",
       "</table>\n",
       "<p>227 rows × 6 columns</p>\n",
       "</div>"
      ],
      "text/plain": [
       "       uid                                              title  \\\n",
       "20     NaN                                       Harry Potter   \n",
       "46     NaN                Fantasy Novels: Invitations to Hell   \n",
       "49     NaN                                          Billboard   \n",
       "80     NaN                                 Pratiyogita Darpan   \n",
       "317    NaN                            Der Wet Bed Pride Guide   \n",
       "...    ...                                                ...   \n",
       "17471  NaN                      Studies in Later Greek Comedy   \n",
       "17843  NaN                                  Mythological Body   \n",
       "17977  NaN        NEC The Computer and Communications Company   \n",
       "17983  NaN                                    COPPER IN CHILE   \n",
       "17984  NaN  the role of the financial sector in the econom...   \n",
       "\n",
       "                                                  author      genre  \\\n",
       "20                                                   NaN        NaN   \n",
       "46     Creation Liberty Evangelism, Christopher J.E. ...  Education   \n",
       "49                                                   NaN        NaN   \n",
       "80                                                   NaN        NaN   \n",
       "317                        Florence Grant, Forrest Grant    Fiction   \n",
       "...                                                  ...        ...   \n",
       "17471                    Thomas Bertram Lonsdale Webster        NaN   \n",
       "17843                                     Premyogi Vajra        Art   \n",
       "17977                                                NaN        NaN   \n",
       "17983                                  THEODORE H. MORAN        NaN   \n",
       "17984                                  rita m. maldonado        NaN   \n",
       "\n",
       "                                             description  \\\n",
       "20                                                   NaN   \n",
       "46     Fantasy novels & movies are not just harmless ...   \n",
       "49     In its 114th year, Billboard remains the world...   \n",
       "80     Pratiyogita Darpan (monthly magazine) is India...   \n",
       "317    Gabriel ist ein Bettnässer, der in bereits nas...   \n",
       "...                                                  ...   \n",
       "17471                                                NaN   \n",
       "17843  Enter a world where ancient mythology and mode...   \n",
       "17977                                                NaN   \n",
       "17983                                                NaN   \n",
       "17984                                                NaN   \n",
       "\n",
       "                                               image_url  \n",
       "20     http://books.google.com/books/content?id=n3vng...  \n",
       "46     http://books.google.com/books/content?id=TdeNB...  \n",
       "49     http://books.google.com/books/content?id=cQ8EA...  \n",
       "80     http://books.google.com/books/content?id=UugDA...  \n",
       "317    http://books.google.com/books/content?id=zMxoE...  \n",
       "...                                                  ...  \n",
       "17471  http://books.google.com/books/content?id=hBgNA...  \n",
       "17843  http://books.google.com/books/content?id=zjr3E...  \n",
       "17977  http://books.google.com/books/content?id=wtJY6...  \n",
       "17983  http://books.google.com/books/content?id=OPzu4...  \n",
       "17984  http://books.google.com/books/content?id=Evmu6...  \n",
       "\n",
       "[227 rows x 6 columns]"
      ]
     },
     "execution_count": 149,
     "metadata": {},
     "output_type": "execute_result"
    }
   ],
   "source": [
    "googlebooks_df[googlebooks_df[\"uid\"].isnull()]"
   ]
  },
  {
   "cell_type": "code",
   "execution_count": 150,
   "id": "31dfc2ca-d5c6-44b2-8509-8d4a9ebdfbee",
   "metadata": {},
   "outputs": [],
   "source": [
    "# Generate random numbers only for rows where uid is null\n",
    "googlebooks_df.loc[googlebooks_df[\"uid\"].isnull(), \"uid\"] = np.random.randint(1000, 9999, googlebooks_df[\"uid\"].isnull().sum())"
   ]
  },
  {
   "cell_type": "code",
   "execution_count": 151,
   "id": "fa2e5d1b-7f8b-42df-9c5b-0230e2509044",
   "metadata": {},
   "outputs": [
    {
     "data": {
      "text/plain": [
       "np.False_"
      ]
     },
     "execution_count": 151,
     "metadata": {},
     "output_type": "execute_result"
    }
   ],
   "source": [
    "googlebooks_df.duplicated().any()\n"
   ]
  },
  {
   "cell_type": "code",
   "execution_count": 152,
   "id": "44edb04c-fe81-4383-a531-7947cd7a0d56",
   "metadata": {},
   "outputs": [
    {
     "data": {
      "text/plain": [
       "uid                0\n",
       "title              0\n",
       "author          4216\n",
       "genre           3684\n",
       "description    10657\n",
       "image_url        874\n",
       "dtype: int64"
      ]
     },
     "execution_count": 152,
     "metadata": {},
     "output_type": "execute_result"
    }
   ],
   "source": [
    "googlebooks_df.isna().sum()"
   ]
  },
  {
   "cell_type": "code",
   "execution_count": 153,
   "id": "2133c34d-7e3d-4ddb-915e-91f81330dd6e",
   "metadata": {},
   "outputs": [
    {
     "name": "stderr",
     "output_type": "stream",
     "text": [
      "C:\\Users\\sheri\\AppData\\Local\\Temp\\ipykernel_16488\\2616777392.py:1: FutureWarning: A value is trying to be set on a copy of a DataFrame or Series through chained assignment using an inplace method.\n",
      "The behavior will change in pandas 3.0. This inplace method will never work because the intermediate object on which we are setting values always behaves as a copy.\n",
      "\n",
      "For example, when doing 'df[col].method(value, inplace=True)', try using 'df.method({col: value}, inplace=True)' or df[col] = df[col].method(value) instead, to perform the operation inplace on the original object.\n",
      "\n",
      "\n",
      "  googlebooks_df['image_url'].fillna(\"Image is not available\",inplace=True)\n"
     ]
    }
   ],
   "source": [
    "googlebooks_df['image_url'].fillna(\"Image is not available\",inplace=True)"
   ]
  },
  {
   "cell_type": "code",
   "execution_count": 154,
   "id": "ac4aa1c1-6f57-4af1-9dc5-743edc0986fb",
   "metadata": {},
   "outputs": [
    {
     "data": {
      "text/plain": [
       "uid                0\n",
       "title              0\n",
       "author          4216\n",
       "genre           3684\n",
       "description    10657\n",
       "image_url          0\n",
       "dtype: int64"
      ]
     },
     "execution_count": 154,
     "metadata": {},
     "output_type": "execute_result"
    }
   ],
   "source": [
    "googlebooks_df.isna().sum()"
   ]
  },
  {
   "cell_type": "code",
   "execution_count": 155,
   "id": "36941660-af53-4db6-9b7e-89b05455a235",
   "metadata": {},
   "outputs": [
    {
     "name": "stderr",
     "output_type": "stream",
     "text": [
      "C:\\Users\\sheri\\AppData\\Local\\Temp\\ipykernel_16488\\1767729133.py:1: FutureWarning: A value is trying to be set on a copy of a DataFrame or Series through chained assignment using an inplace method.\n",
      "The behavior will change in pandas 3.0. This inplace method will never work because the intermediate object on which we are setting values always behaves as a copy.\n",
      "\n",
      "For example, when doing 'df[col].method(value, inplace=True)', try using 'df.method({col: value}, inplace=True)' or df[col] = df[col].method(value) instead, to perform the operation inplace on the original object.\n",
      "\n",
      "\n",
      "  googlebooks_df['author'].fillna(\"Author Unknown\",inplace=True)\n",
      "C:\\Users\\sheri\\AppData\\Local\\Temp\\ipykernel_16488\\1767729133.py:2: FutureWarning: A value is trying to be set on a copy of a DataFrame or Series through chained assignment using an inplace method.\n",
      "The behavior will change in pandas 3.0. This inplace method will never work because the intermediate object on which we are setting values always behaves as a copy.\n",
      "\n",
      "For example, when doing 'df[col].method(value, inplace=True)', try using 'df.method({col: value}, inplace=True)' or df[col] = df[col].method(value) instead, to perform the operation inplace on the original object.\n",
      "\n",
      "\n",
      "  googlebooks_df['genre'].fillna(\"General\",inplace=True)\n",
      "C:\\Users\\sheri\\AppData\\Local\\Temp\\ipykernel_16488\\1767729133.py:3: FutureWarning: A value is trying to be set on a copy of a DataFrame or Series through chained assignment using an inplace method.\n",
      "The behavior will change in pandas 3.0. This inplace method will never work because the intermediate object on which we are setting values always behaves as a copy.\n",
      "\n",
      "For example, when doing 'df[col].method(value, inplace=True)', try using 'df.method({col: value}, inplace=True)' or df[col] = df[col].method(value) instead, to perform the operation inplace on the original object.\n",
      "\n",
      "\n",
      "  googlebooks_df['description'].fillna(\"Read and describe\",inplace=True)\n"
     ]
    }
   ],
   "source": [
    "googlebooks_df['author'].fillna(\"Author Unknown\",inplace=True)\n",
    "googlebooks_df['genre'].fillna(\"General\",inplace=True)\n",
    "googlebooks_df['description'].fillna(\"Read and describe\",inplace=True)"
   ]
  },
  {
   "cell_type": "code",
   "execution_count": 156,
   "id": "d9a817db-9f8f-4062-9f2c-4b1808e1991e",
   "metadata": {},
   "outputs": [
    {
     "data": {
      "text/plain": [
       "uid            0\n",
       "title          0\n",
       "author         0\n",
       "genre          0\n",
       "description    0\n",
       "image_url      0\n",
       "dtype: int64"
      ]
     },
     "execution_count": 156,
     "metadata": {},
     "output_type": "execute_result"
    }
   ],
   "source": [
    "googlebooks_df.isna().sum()"
   ]
  },
  {
   "cell_type": "code",
   "execution_count": 157,
   "id": "f459c7be-27e3-4bcf-9012-e28f62fe3194",
   "metadata": {},
   "outputs": [
    {
     "data": {
      "text/plain": [
       "(19006, 6)"
      ]
     },
     "execution_count": 157,
     "metadata": {},
     "output_type": "execute_result"
    }
   ],
   "source": [
    "\n",
    "\n",
    "df = pd.concat([scrape_df, googlebooks_df], ignore_index=True)\n",
    "df.shape"
   ]
  },
  {
   "cell_type": "code",
   "execution_count": 158,
   "id": "bd4b9f36-d8b7-4aa4-a55e-0f7a7574a066",
   "metadata": {},
   "outputs": [
    {
     "data": {
      "text/html": [
       "<div>\n",
       "<style scoped>\n",
       "    .dataframe tbody tr th:only-of-type {\n",
       "        vertical-align: middle;\n",
       "    }\n",
       "\n",
       "    .dataframe tbody tr th {\n",
       "        vertical-align: top;\n",
       "    }\n",
       "\n",
       "    .dataframe thead th {\n",
       "        text-align: right;\n",
       "    }\n",
       "</style>\n",
       "<table border=\"1\" class=\"dataframe\">\n",
       "  <thead>\n",
       "    <tr style=\"text-align: right;\">\n",
       "      <th></th>\n",
       "      <th>uid</th>\n",
       "      <th>title</th>\n",
       "      <th>author</th>\n",
       "      <th>genre</th>\n",
       "      <th>description</th>\n",
       "      <th>image_url</th>\n",
       "    </tr>\n",
       "  </thead>\n",
       "  <tbody>\n",
       "    <tr>\n",
       "      <th>0</th>\n",
       "      <td>a897fe39b1053632</td>\n",
       "      <td>A Light in the Attic</td>\n",
       "      <td>Author Unknown</td>\n",
       "      <td>Poetry</td>\n",
       "      <td>It's hard to imagine a world without A Light i...</td>\n",
       "      <td>https://books.toscrape.com/media/cache/fe/72/f...</td>\n",
       "    </tr>\n",
       "    <tr>\n",
       "      <th>1</th>\n",
       "      <td>90fa61229261140a</td>\n",
       "      <td>Tipping the Velvet</td>\n",
       "      <td>Author Unknown</td>\n",
       "      <td>Historical Fiction</td>\n",
       "      <td>\"Erotic and absorbing...Written with starling ...</td>\n",
       "      <td>https://books.toscrape.com/media/cache/08/e9/0...</td>\n",
       "    </tr>\n",
       "    <tr>\n",
       "      <th>2</th>\n",
       "      <td>6957f44c3847a760</td>\n",
       "      <td>Soumission</td>\n",
       "      <td>Author Unknown</td>\n",
       "      <td>Fiction</td>\n",
       "      <td>Dans une France assez proche de la nôtre, un h...</td>\n",
       "      <td>https://books.toscrape.com/media/cache/ee/cf/e...</td>\n",
       "    </tr>\n",
       "    <tr>\n",
       "      <th>3</th>\n",
       "      <td>e00eb4fd7b871a48</td>\n",
       "      <td>Sharp Objects</td>\n",
       "      <td>Author Unknown</td>\n",
       "      <td>Mystery</td>\n",
       "      <td>WICKED above her hipbone, GIRL across her hear...</td>\n",
       "      <td>https://books.toscrape.com/media/cache/c0/59/c...</td>\n",
       "    </tr>\n",
       "    <tr>\n",
       "      <th>4</th>\n",
       "      <td>4165285e1663650f</td>\n",
       "      <td>Sapiens: A Brief History of Humankind</td>\n",
       "      <td>Author Unknown</td>\n",
       "      <td>History</td>\n",
       "      <td>From a renowned historian comes a groundbreaki...</td>\n",
       "      <td>https://books.toscrape.com/media/cache/ce/5f/c...</td>\n",
       "    </tr>\n",
       "  </tbody>\n",
       "</table>\n",
       "</div>"
      ],
      "text/plain": [
       "                uid                                  title          author  \\\n",
       "0  a897fe39b1053632                   A Light in the Attic  Author Unknown   \n",
       "1  90fa61229261140a                     Tipping the Velvet  Author Unknown   \n",
       "2  6957f44c3847a760                             Soumission  Author Unknown   \n",
       "3  e00eb4fd7b871a48                          Sharp Objects  Author Unknown   \n",
       "4  4165285e1663650f  Sapiens: A Brief History of Humankind  Author Unknown   \n",
       "\n",
       "                genre                                        description  \\\n",
       "0              Poetry  It's hard to imagine a world without A Light i...   \n",
       "1  Historical Fiction  \"Erotic and absorbing...Written with starling ...   \n",
       "2             Fiction  Dans une France assez proche de la nôtre, un h...   \n",
       "3             Mystery  WICKED above her hipbone, GIRL across her hear...   \n",
       "4             History  From a renowned historian comes a groundbreaki...   \n",
       "\n",
       "                                           image_url  \n",
       "0  https://books.toscrape.com/media/cache/fe/72/f...  \n",
       "1  https://books.toscrape.com/media/cache/08/e9/0...  \n",
       "2  https://books.toscrape.com/media/cache/ee/cf/e...  \n",
       "3  https://books.toscrape.com/media/cache/c0/59/c...  \n",
       "4  https://books.toscrape.com/media/cache/ce/5f/c...  "
      ]
     },
     "execution_count": 158,
     "metadata": {},
     "output_type": "execute_result"
    }
   ],
   "source": [
    "df.head()"
   ]
  },
  {
   "cell_type": "code",
   "execution_count": 159,
   "id": "d35f2341-77d5-46d8-91c2-42a5d08a58ef",
   "metadata": {},
   "outputs": [
    {
     "data": {
      "text/plain": [
       "uid            0\n",
       "title          0\n",
       "author         0\n",
       "genre          0\n",
       "description    0\n",
       "image_url      0\n",
       "dtype: int64"
      ]
     },
     "execution_count": 159,
     "metadata": {},
     "output_type": "execute_result"
    }
   ],
   "source": [
    "df.isna().sum()"
   ]
  },
  {
   "cell_type": "code",
   "execution_count": 160,
   "id": "d7e6c830-34f6-44de-b63d-46c98ee35068",
   "metadata": {},
   "outputs": [],
   "source": [
    "df.to_csv(\"../data/clean/books.csv\", index=False)"
   ]
  }
 ],
 "metadata": {
  "kernelspec": {
   "display_name": "venv",
   "language": "python",
   "name": "venv"
  },
  "language_info": {
   "codemirror_mode": {
    "name": "ipython",
    "version": 3
   },
   "file_extension": ".py",
   "mimetype": "text/x-python",
   "name": "python",
   "nbconvert_exporter": "python",
   "pygments_lexer": "ipython3",
   "version": "3.12.3"
  }
 },
 "nbformat": 4,
 "nbformat_minor": 5
}
